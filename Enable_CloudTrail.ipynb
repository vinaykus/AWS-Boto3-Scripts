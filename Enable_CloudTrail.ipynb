{
 "cells": [
  {
   "cell_type": "code",
   "execution_count": 3,
   "metadata": {
    "collapsed": true
   },
   "outputs": [],
   "source": [
    "import boto3\n",
    "from botocore.exceptions import ClientError\n",
    "import random\n",
    "import json"
   ]
  },
  {
   "cell_type": "code",
   "execution_count": null,
   "metadata": {
    "collapsed": true
   },
   "outputs": [],
   "source": [
    "aws_access_key_id = <access_key_id>\n",
    "aws_secret_access_key = <secret_access_key>\n",
    "Region_Name = 'us-east-2'"
   ]
  },
  {
   "cell_type": "code",
   "execution_count": 2,
   "metadata": {},
   "outputs": [],
   "source": [
    "def enablecloudtrail(AccountId):\n",
    "\n",
    "    session = boto3.Session(region_name=Region_Name,aws_access_key_id=aws_access_key_id,aws_secret_access_key=aws_secret_access_key)\n",
    "\n",
    "    # Creating an S3 bucket\n",
    "    \n",
    "    try:\n",
    "\n",
    "        s3 = session.client('s3')\n",
    "        S3Bucket = 'cloudtrail-' + str(random.randint(11111,99999))\n",
    "        s3.create_bucket(Bucket=S3Bucket, CreateBucketConfiguration={'LocationConstraint': 'us-west-2'}, )\n",
    "\n",
    "        # Create the bucket policy\n",
    "\n",
    "        bucket_policy = {\n",
    "            \"Version\": \"2012-10-17\",\n",
    "            \"Statement\": [\n",
    "                {\n",
    "                    \"Sid\": \"AWSCloudTrailAclCheck20150319\",\n",
    "                    \"Effect\": \"Allow\",\n",
    "                    \"Principal\": {\"Service\": \"cloudtrail.amazonaws.com\"},\n",
    "                    \"Action\": \"s3:GetBucketAcl\",\n",
    "                    \"Resource\": \"arn:aws:s3:::%s\" % S3Bucket\n",
    "                },\n",
    "                {\n",
    "                    \"Sid\": \"AWSCloudTrailWrite20150319\",\n",
    "                    \"Effect\": \"Allow\",\n",
    "                    \"Principal\": {\"Service\": \"cloudtrail.amazonaws.com\"},\n",
    "                    \"Action\": \"s3:PutObject\",\n",
    "                    \"Resource\": \"arn:aws:s3:::%s/CT/AWSLogs/%s/*\" % (S3Bucket, AccountId),\n",
    "                    \"Condition\": {\"StringEquals\": {\"s3:x-amz-acl\": \"bucket-owner-full-control\"}}\n",
    "                }\n",
    "            ]\n",
    "        }\n",
    "\n",
    "        # Convert the policy to a JSON string\n",
    "        bucket_policy = json.dumps(bucket_policy)\n",
    "\n",
    "        # Set the new policy on the given bucket\n",
    "        s3.put_bucket_policy(Bucket=S3Bucket, Policy=bucket_policy)\n",
    "\n",
    "    \n",
    "    except ClientError as e:\n",
    "\n",
    "        print(e.response['Error']['Message'])\n",
    "\n",
    "    # Creating a new Trail\n",
    "\n",
    "    CloudTrailName = 'CloudTrail-Test1'\n",
    "    ct = session.client('cloudtrail')\n",
    "\n",
    "    try:\n",
    "\n",
    "        res = ct.create_trail(\n",
    "            Name=CloudTrailName,\n",
    "            S3BucketName=S3Bucket,\n",
    "            S3KeyPrefix='CT',\n",
    "            IncludeGlobalServiceEvents=True,\n",
    "            IsMultiRegionTrail=True,\n",
    "            EnableLogFileValidation=False\n",
    "            )\n",
    "        # Enable logging on the new trail\n",
    "        CloudTrailARN = res['TrailARN']\n",
    "        ct.start_logging(Name = CloudTrailARN)\n",
    "\n",
    "    except ClientError as e:\n",
    "\n",
    "        print(e.response['Error']['Message'])\n",
    "\n",
    "    else:\n",
    "\n",
    "        print(\"Trail created\\nName:%s\\nS3 bucket:%s\\nARN:%s\" %(CloudTrailName, S3Bucket, CloudTrailARN))\n"
   ]
  },
  {
   "cell_type": "code",
   "execution_count": null,
   "metadata": {
    "collapsed": true
   },
   "outputs": [],
   "source": [
    "def main():\n",
    "    enablecloudtrail(<Account_ID>) #Account ID of the root user\n",
    "\n",
    "\n",
    "if __name__ == \"__main__\":\n",
    "    main()"
   ]
  }
 ],
 "metadata": {
  "kernelspec": {
   "display_name": "Python 3",
   "language": "python",
   "name": "python3"
  },
  "language_info": {
   "codemirror_mode": {
    "name": "ipython",
    "version": 3
   },
   "file_extension": ".py",
   "mimetype": "text/x-python",
   "name": "python",
   "nbconvert_exporter": "python",
   "pygments_lexer": "ipython3",
   "version": "3.6.1"
  }
 },
 "nbformat": 4,
 "nbformat_minor": 2
}
